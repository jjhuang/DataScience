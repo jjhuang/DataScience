{
 "cells": [
  {
   "cell_type": "code",
   "execution_count": 1,
   "metadata": {
    "collapsed": false
   },
   "outputs": [
    {
     "name": "stdout",
     "output_type": "stream",
     "text": [
      "[['Dates', 'Category', 'Descript', 'DayOfWeek', 'PdDistrict', 'Resolution', 'Address', 'X', 'Y'], ['2015-05-13 23:53:00', 'WARRANTS', 'WARRANT ARREST', 'Wednesday', 'NORTHERN', 'ARREST, BOOKED', 'OAK ST / LAGUNA ST', '-122.425891675136', '37.7745985956747'], ['2015-05-13 23:53:00', 'OTHER OFFENSES', 'TRAFFIC VIOLATION ARREST', 'Wednesday', 'NORTHERN', 'ARREST, BOOKED', 'OAK ST / LAGUNA ST', '-122.425891675136', '37.7745985956747'], ['2015-05-13 23:33:00', 'OTHER OFFENSES', 'TRAFFIC VIOLATION ARREST', 'Wednesday', 'NORTHERN', 'ARREST, BOOKED', 'VANNESS AV / GREENWICH ST', '-122.42436302145', '37.8004143219856'], ['2015-05-13 23:30:00', 'LARCENY/THEFT', 'GRAND THEFT FROM LOCKED AUTO', 'Wednesday', 'NORTHERN', 'NONE', '1500 Block of LOMBARD ST', '-122.42699532676599', '37.80087263276921'], ['2015-05-13 23:30:00', 'LARCENY/THEFT', 'GRAND THEFT FROM LOCKED AUTO', 'Wednesday', 'PARK', 'NONE', '100 Block of BRODERICK ST', '-122.438737622757', '37.771541172057795'], ['2015-05-13 23:30:00', 'LARCENY/THEFT', 'GRAND THEFT FROM UNLOCKED AUTO', 'Wednesday', 'INGLESIDE', 'NONE', '0 Block of TEDDY AV', '-122.40325236121201', '37.713430704116'], ['2015-05-13 23:30:00', 'VEHICLE THEFT', 'STOLEN AUTOMOBILE', 'Wednesday', 'INGLESIDE', 'NONE', 'AVALON AV / PERU AV', '-122.423326976668', '37.7251380403778'], ['2015-05-13 23:30:00', 'VEHICLE THEFT', 'STOLEN AUTOMOBILE', 'Wednesday', 'BAYVIEW', 'NONE', 'KIRKWOOD AV / DONAHUE ST', '-122.371274317441', '37.7275640719518'], ['2015-05-13 23:00:00', 'LARCENY/THEFT', 'GRAND THEFT FROM LOCKED AUTO', 'Wednesday', 'RICHMOND', 'NONE', '600 Block of 47TH AV', '-122.508194031117', '37.776601260681204']]\n"
     ]
    }
   ],
   "source": [
    "import csv\n",
    "\n",
    "FILE_TRAIN = 'train.csv'\n",
    "FILE_TEST  = 'test.csv'\n",
    "\n",
    "with open(FILE_TRAIN, 'r') as f:\n",
    "    d_train = list(csv.reader(f))\n",
    "with open(FILE_TEST, 'r') as f:\n",
    "    d_test = list(csv.reader(f))\n",
    "    \n",
    "for r in d_train[0:50]:\n",
    "    print r"
   ]
  },
  {
   "cell_type": "code",
   "execution_count": null,
   "metadata": {
    "collapsed": true
   },
   "outputs": [],
   "source": []
  }
 ],
 "metadata": {
  "kernelspec": {
   "display_name": "Python 2",
   "language": "python",
   "name": "python2"
  },
  "language_info": {
   "codemirror_mode": {
    "name": "ipython",
    "version": 2
   },
   "file_extension": ".py",
   "mimetype": "text/x-python",
   "name": "python",
   "nbconvert_exporter": "python",
   "pygments_lexer": "ipython2",
   "version": "2.7.10"
  }
 },
 "nbformat": 4,
 "nbformat_minor": 0
}
